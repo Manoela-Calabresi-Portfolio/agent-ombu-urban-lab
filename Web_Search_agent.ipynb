{
 "cells": [
  {
   "cell_type": "markdown",
   "metadata": {},
   "source": [
    "# 🔍 Building an AI-Powered Web Search Agent with OpenAI and Tavily 🚀\n",
    "\n",
    "Hey there! Welcome to this exciting guide where we'll create something awesome - a smart search agent that combines the power of OpenAI's language models with Tavily's search capabilities! 🌟 \n",
    "\n",
    "## 🎯 What We'll Build\n",
    "\n",
    "We're going to create a super cool search agent that can:\n",
    "1. 🌐 Search the web in real-time for accurate information\n",
    "2. 🧠 Use OpenAI's powerful GPT models to understand and process search results\n",
    "3. ⚡ Provide contextual and up-to-date responses to queries\n",
    "\n",
    "## ✅ Prerequisites\n",
    "\n",
    "Before we jump in, make sure you have these things ready:\n",
    "- 🔑 An OpenAI API key\n",
    "- 🎯 A Tavily API key (get one at tavily.com)\n",
    "\n",
    "## 🎮 Part 1: Setting Up Our Environment\n",
    "\n",
    "First things first - let's get our tools ready! We'll need to install the Tavily Python package to interact with their search API:\n"
   ]
  },
  {
   "cell_type": "code",
   "execution_count": 10,
   "metadata": {},
   "outputs": [
    {
     "name": "stdout",
     "output_type": "stream",
     "text": [
      "Requirement already satisfied: streamlit in c:\\users\\manoe.mc_asus\\anaconda3\\lib\\site-packages (1.44.1)\n",
      "Requirement already satisfied: openai in c:\\users\\manoe.mc_asus\\anaconda3\\lib\\site-packages (1.76.0)\n",
      "Requirement already satisfied: requests in c:\\users\\manoe.mc_asus\\anaconda3\\lib\\site-packages (2.32.3)\n",
      "Requirement already satisfied: python-dotenv in c:\\users\\manoe.mc_asus\\anaconda3\\lib\\site-packages (0.21.0)\n",
      "Requirement already satisfied: altair<6,>=4.0 in c:\\users\\manoe.mc_asus\\anaconda3\\lib\\site-packages (from streamlit) (5.0.1)\n",
      "Requirement already satisfied: blinker<2,>=1.0.0 in c:\\users\\manoe.mc_asus\\anaconda3\\lib\\site-packages (from streamlit) (1.6.2)\n",
      "Requirement already satisfied: cachetools<6,>=4.0 in c:\\users\\manoe.mc_asus\\anaconda3\\lib\\site-packages (from streamlit) (5.3.3)\n",
      "Requirement already satisfied: click<9,>=7.0 in c:\\users\\manoe.mc_asus\\anaconda3\\lib\\site-packages (from streamlit) (8.1.7)\n",
      "Requirement already satisfied: numpy<3,>=1.23 in c:\\users\\manoe.mc_asus\\anaconda3\\lib\\site-packages (from streamlit) (1.26.4)\n",
      "Requirement already satisfied: packaging<25,>=20 in c:\\users\\manoe.mc_asus\\anaconda3\\lib\\site-packages (from streamlit) (24.1)\n",
      "Requirement already satisfied: pandas<3,>=1.4.0 in c:\\users\\manoe.mc_asus\\anaconda3\\lib\\site-packages (from streamlit) (2.2.2)\n",
      "Requirement already satisfied: pillow<12,>=7.1.0 in c:\\users\\manoe.mc_asus\\anaconda3\\lib\\site-packages (from streamlit) (10.4.0)\n",
      "Requirement already satisfied: protobuf<6,>=3.20 in c:\\users\\manoe.mc_asus\\anaconda3\\lib\\site-packages (from streamlit) (4.25.3)\n",
      "Requirement already satisfied: pyarrow>=7.0 in c:\\users\\manoe.mc_asus\\anaconda3\\lib\\site-packages (from streamlit) (16.1.0)\n",
      "Requirement already satisfied: tenacity<10,>=8.1.0 in c:\\users\\manoe.mc_asus\\anaconda3\\lib\\site-packages (from streamlit) (8.2.3)\n",
      "Requirement already satisfied: toml<2,>=0.10.1 in c:\\users\\manoe.mc_asus\\anaconda3\\lib\\site-packages (from streamlit) (0.10.2)\n",
      "Requirement already satisfied: typing-extensions<5,>=4.4.0 in c:\\users\\manoe.mc_asus\\anaconda3\\lib\\site-packages (from streamlit) (4.11.0)\n",
      "Requirement already satisfied: watchdog<7,>=2.1.5 in c:\\users\\manoe.mc_asus\\anaconda3\\lib\\site-packages (from streamlit) (4.0.1)\n",
      "Requirement already satisfied: gitpython!=3.1.19,<4,>=3.0.7 in c:\\users\\manoe.mc_asus\\anaconda3\\lib\\site-packages (from streamlit) (3.1.43)\n",
      "Requirement already satisfied: pydeck<1,>=0.8.0b4 in c:\\users\\manoe.mc_asus\\anaconda3\\lib\\site-packages (from streamlit) (0.8.0)\n",
      "Requirement already satisfied: tornado<7,>=6.0.3 in c:\\users\\manoe.mc_asus\\anaconda3\\lib\\site-packages (from streamlit) (6.4.1)\n",
      "Requirement already satisfied: anyio<5,>=3.5.0 in c:\\users\\manoe.mc_asus\\anaconda3\\lib\\site-packages (from openai) (4.2.0)\n",
      "Requirement already satisfied: distro<2,>=1.7.0 in c:\\users\\manoe.mc_asus\\anaconda3\\lib\\site-packages (from openai) (1.9.0)\n",
      "Requirement already satisfied: httpx<1,>=0.23.0 in c:\\users\\manoe.mc_asus\\anaconda3\\lib\\site-packages (from openai) (0.27.0)\n",
      "Requirement already satisfied: jiter<1,>=0.4.0 in c:\\users\\manoe.mc_asus\\anaconda3\\lib\\site-packages (from openai) (0.9.0)\n",
      "Requirement already satisfied: pydantic<3,>=1.9.0 in c:\\users\\manoe.mc_asus\\anaconda3\\lib\\site-packages (from openai) (2.8.2)\n",
      "Requirement already satisfied: sniffio in c:\\users\\manoe.mc_asus\\anaconda3\\lib\\site-packages (from openai) (1.3.0)\n",
      "Requirement already satisfied: tqdm>4 in c:\\users\\manoe.mc_asus\\anaconda3\\lib\\site-packages (from openai) (4.66.5)\n",
      "Requirement already satisfied: charset-normalizer<4,>=2 in c:\\users\\manoe.mc_asus\\anaconda3\\lib\\site-packages (from requests) (3.3.2)\n",
      "Requirement already satisfied: idna<4,>=2.5 in c:\\users\\manoe.mc_asus\\anaconda3\\lib\\site-packages (from requests) (3.7)\n",
      "Requirement already satisfied: urllib3<3,>=1.21.1 in c:\\users\\manoe.mc_asus\\anaconda3\\lib\\site-packages (from requests) (2.2.3)\n",
      "Requirement already satisfied: certifi>=2017.4.17 in c:\\users\\manoe.mc_asus\\anaconda3\\lib\\site-packages (from requests) (2025.1.31)\n",
      "Requirement already satisfied: jinja2 in c:\\users\\manoe.mc_asus\\anaconda3\\lib\\site-packages (from altair<6,>=4.0->streamlit) (3.1.4)\n",
      "Requirement already satisfied: jsonschema>=3.0 in c:\\users\\manoe.mc_asus\\anaconda3\\lib\\site-packages (from altair<6,>=4.0->streamlit) (4.23.0)\n",
      "Requirement already satisfied: toolz in c:\\users\\manoe.mc_asus\\anaconda3\\lib\\site-packages (from altair<6,>=4.0->streamlit) (0.12.0)\n",
      "Requirement already satisfied: colorama in c:\\users\\manoe.mc_asus\\anaconda3\\lib\\site-packages (from click<9,>=7.0->streamlit) (0.4.6)\n",
      "Requirement already satisfied: gitdb<5,>=4.0.1 in c:\\users\\manoe.mc_asus\\anaconda3\\lib\\site-packages (from gitpython!=3.1.19,<4,>=3.0.7->streamlit) (4.0.7)\n",
      "Requirement already satisfied: httpcore==1.* in c:\\users\\manoe.mc_asus\\anaconda3\\lib\\site-packages (from httpx<1,>=0.23.0->openai) (1.0.2)\n",
      "Requirement already satisfied: h11<0.15,>=0.13 in c:\\users\\manoe.mc_asus\\anaconda3\\lib\\site-packages (from httpcore==1.*->httpx<1,>=0.23.0->openai) (0.14.0)\n",
      "Requirement already satisfied: python-dateutil>=2.8.2 in c:\\users\\manoe.mc_asus\\anaconda3\\lib\\site-packages (from pandas<3,>=1.4.0->streamlit) (2.9.0.post0)\n",
      "Requirement already satisfied: pytz>=2020.1 in c:\\users\\manoe.mc_asus\\anaconda3\\lib\\site-packages (from pandas<3,>=1.4.0->streamlit) (2024.1)\n",
      "Requirement already satisfied: tzdata>=2022.7 in c:\\users\\manoe.mc_asus\\anaconda3\\lib\\site-packages (from pandas<3,>=1.4.0->streamlit) (2023.3)\n",
      "Requirement already satisfied: annotated-types>=0.4.0 in c:\\users\\manoe.mc_asus\\anaconda3\\lib\\site-packages (from pydantic<3,>=1.9.0->openai) (0.6.0)\n",
      "Requirement already satisfied: pydantic-core==2.20.1 in c:\\users\\manoe.mc_asus\\anaconda3\\lib\\site-packages (from pydantic<3,>=1.9.0->openai) (2.20.1)\n",
      "Requirement already satisfied: smmap<5,>=3.0.1 in c:\\users\\manoe.mc_asus\\anaconda3\\lib\\site-packages (from gitdb<5,>=4.0.1->gitpython!=3.1.19,<4,>=3.0.7->streamlit) (4.0.0)\n",
      "Requirement already satisfied: MarkupSafe>=2.0 in c:\\users\\manoe.mc_asus\\anaconda3\\lib\\site-packages (from jinja2->altair<6,>=4.0->streamlit) (2.1.3)\n",
      "Requirement already satisfied: attrs>=22.2.0 in c:\\users\\manoe.mc_asus\\anaconda3\\lib\\site-packages (from jsonschema>=3.0->altair<6,>=4.0->streamlit) (24.3.0)\n",
      "Requirement already satisfied: jsonschema-specifications>=2023.03.6 in c:\\users\\manoe.mc_asus\\anaconda3\\lib\\site-packages (from jsonschema>=3.0->altair<6,>=4.0->streamlit) (2023.7.1)\n",
      "Requirement already satisfied: referencing>=0.28.4 in c:\\users\\manoe.mc_asus\\anaconda3\\lib\\site-packages (from jsonschema>=3.0->altair<6,>=4.0->streamlit) (0.30.2)\n",
      "Requirement already satisfied: rpds-py>=0.7.1 in c:\\users\\manoe.mc_asus\\anaconda3\\lib\\site-packages (from jsonschema>=3.0->altair<6,>=4.0->streamlit) (0.10.6)\n",
      "Requirement already satisfied: six>=1.5 in c:\\users\\manoe.mc_asus\\anaconda3\\lib\\site-packages (from python-dateutil>=2.8.2->pandas<3,>=1.4.0->streamlit) (1.16.0)\n"
     ]
    }
   ],
   "source": [
    "# Install necessary libraries\n",
    "!pip install streamlit openai requests python-dotenv"
   ]
  },
  {
   "cell_type": "code",
   "execution_count": 11,
   "metadata": {},
   "outputs": [],
   "source": [
    "# Load environment variables\n",
    "from dotenv import load_dotenv\n",
    "load_dotenv()\n",
    "\n",
    "import os\n",
    "\n",
    "OPENAI_API_KEY = os.getenv(\"OPENAI_API_KEY\")\n",
    "TAVILY_API_KEY = os.getenv(\"TAVILY_API_KEY\")\n"
   ]
  },
  {
   "cell_type": "code",
   "execution_count": 12,
   "metadata": {},
   "outputs": [
    {
     "name": "stdout",
     "output_type": "stream",
     "text": [
      "✅ Tavily API Key loaded successfully.\n"
     ]
    }
   ],
   "source": [
    "if TAVILY_API_KEY:\n",
    "    print(\"✅ Tavily API Key loaded successfully.\")\n",
    "else:\n",
    "    print(\"❌ Error: Tavily API Key not found. Check your .env file.\")\n"
   ]
  },
  {
   "cell_type": "markdown",
   "metadata": {},
   "source": [
    "\n",
    "## 🛠️ Part 2: Building Our Search Tools\n",
    "\n",
    "Let's create the foundation of our search agent! We'll define a set of tools that our AI can use to search the web:"
   ]
  },
  {
   "cell_type": "code",
   "execution_count": 13,
   "metadata": {},
   "outputs": [],
   "source": [
    "import json\n",
    "from openai import OpenAI\n",
    "from tavily import TavilyClient\n",
    "import pprint"
   ]
  },
  {
   "cell_type": "code",
   "execution_count": 14,
   "metadata": {},
   "outputs": [],
   "source": [
    "# Initialize Tavily\n",
    "tavily = TavilyClient(api_key=TAVILY_API_KEY)\n",
    "\n",
    "# Search query Ombu Urban Lab\n",
    "import requests\n",
    "\n",
    "def web_search(city, topic, timeframe, num_results=5):\n",
    "    query = f\"{topic} urban planning report OR government policy study OR academic paper in {city} during {timeframe}\"\n",
    "    url = \"https://api.tavily.com/search\"\n",
    "    headers = {\"Authorization\": f\"Bearer {TAVILY_API_KEY}\"}\n",
    "    payload = {\"query\": query, \"num_results\": num_results}\n",
    "\n",
    "    response = requests.post(url, json=payload, headers=headers)\n",
    "    if response.status_code == 200:\n",
    "        return response.json().get(\"results\", [])\n",
    "    else:\n",
    "        print(\"Error:\", response.text)\n",
    "        return []\n"
   ]
  },
  {
   "cell_type": "code",
   "execution_count": 15,
   "metadata": {},
   "outputs": [
    {
     "data": {
      "text/plain": [
       "[{'title': \"Policy Assessment of Japan's 'Decarbonisation-Leading Regions'\",\n",
       "  'url': 'https://ietresearch.onlinelibrary.wiley.com/doi/10.1049/smc2.70002?af=R',\n",
       "  'content': 'Refers to smart urban development for urban areas. Ministry of economy, trade and industry: Ministry of land, infrastructure, transport and tourism: Digital garden city-state concept: 2021: Cabinet office: Using digital technology to solve social issues and enhance the attractiveness of local communities. Refers to smart rural development.',\n",
       "  'score': 0.16791369,\n",
       "  'raw_content': None},\n",
       " {'title': 'Urban form and its impacts on air pollution and access to green space ...',\n",
       "  'url': 'https://pmc.ncbi.nlm.nih.gov/articles/PMC9876236/',\n",
       "  'content': 'Access to green spaces in urban areas has been recognized as an essential component of the urban environment . Green spaces in cities mostly include semi-natural vegetation cover, such as street trees, lawns, parks, gardens, forests, green roofs . Therefore, this study aims to find the relationship between urban form and access to green spaces',\n",
       "  'score': 0.1284707,\n",
       "  'raw_content': None},\n",
       " {'title': 'Exploring Research Fields in Green Buildings and Urban Green ... - MDPI',\n",
       "  'url': 'https://www.mdpi.com/2075-5309/15/9/1463',\n",
       "  'content': 'Exploring Research Fields in Green Buildings and Urban Green Spaces for Carbon-Neutral City Development Exploring Research Fields in Green Buildings and Urban Green Spaces for Carbon-Neutral City Development Exploring Research Fields in Green Buildings and Urban Green Spaces for Carbon-Neutral City Development. Exploring Research Fields in Green Buildings and Urban Green Spaces for Carbon-Neutral City Development. Exploring Research Fields in Green Buildings and Urban Green Spaces for Carbon-Neutral City Development. Exploring Research Fields in Green Buildings and Urban Green Spaces for Carbon-Neutral City Development. Exploring Research Fields in Green Buildings and Urban Green Spaces for Carbon-Neutral City Development. Exploring Research Fields in Green Buildings and Urban Green Spaces for Carbon-Neutral City Development.',\n",
       "  'score': 0.036703885,\n",
       "  'raw_content': None},\n",
       " {'title': 'Trends in Smart Cities: Global and Japanese Perspectives',\n",
       "  'url': 'https://link.springer.com/chapter/10.1007/978-981-96-2929-9_2',\n",
       "  'content': \"2.1.3 Smart Cities in Continental Asia: Efficient Infrastructure. Many Asian countries other than Japan have pursued a national strategy for smart cities. A problem these countries faced was that urban infrastructure was failing to keep pace with the country's economic development, so smart cities represent an efficient means to supply the necessary infrastructure.\",\n",
       "  'score': 0.025431804,\n",
       "  'raw_content': None},\n",
       " {'title': 'Area Based Management Activities from the Viewpoint of Outdoor Space ...',\n",
       "  'url': 'https://research.tcu.ac.jp/en/publications/都心部における屋外空間の活用の事例とエリアマネジメント',\n",
       "  'content': 'Translated title of the contribution: Area Based Management Activities from the Viewpoint of Outdoor Space Utilization in the City Cores: Original language',\n",
       "  'score': 0.016254053,\n",
       "  'raw_content': None}]"
      ]
     },
     "execution_count": 15,
     "metadata": {},
     "output_type": "execute_result"
    }
   ],
   "source": [
    "web_search(\"Tokyo\", \"Green Areas\", \"2020-2025\", num_results=5)"
   ]
  },
  {
   "cell_type": "code",
   "execution_count": 16,
   "metadata": {},
   "outputs": [],
   "source": [
    "TOOLS = [\n",
    "    {\n",
    "        \"type\": \"function\",\n",
    "        \"function\": {\n",
    "            \"name\": \"web_search\",\n",
    "            \"description\": \"Search the web for urban planning information, reports, studies, or academic papers.\",\n",
    "            \"parameters\": {\n",
    "                \"type\": \"object\",\n",
    "                \"properties\": {\n",
    "                    \"query\": {\"type\": \"string\", \"description\": \"The search query including topic, city, and timeframe\"}\n",
    "                },\n",
    "                \"required\": [\"query\"]\n",
    "            },\n",
    "        },\n",
    "    },\n",
    "]\n"
   ]
  },
  {
   "cell_type": "markdown",
   "metadata": {},
   "source": [
    "\n",
    "## 🎓 Part 3: Creating Our AI Agent\n",
    "\n",
    "Now comes the exciting part! Let's create our AI agent that can understand questions and use our search tools to find answers:\n"
   ]
  },
  {
   "cell_type": "code",
   "execution_count": 21,
   "metadata": {},
   "outputs": [],
   "source": [
    "from datetime import datetime\n",
    "\n",
    "messages = [\n",
    "    {\n",
    "        \"role\": \"system\",\n",
    "        \"content\": f\"\"\"\n",
    "        You are a helpful Urban Research Assistant specializing in mobility, urban planning, green spaces, and public policies.\n",
    "        \n",
    "        Your mission is to:\n",
    "        1. Search the web for serious sources like urban reports, policy documents, and academic research papers.\n",
    "        2. Summarize the main points clearly in bullet form.\n",
    "        3. Generate 1–2 research hypotheses based on the summaries.\n",
    "        \n",
    "        Make as many tool calls as needed to find good-quality sources before responding.\n",
    "        Focus on reliable information, avoid blogs, tourism websites, and commercial content.\n",
    "        \n",
    "        Current date: {datetime.now().strftime('%Y-%m-%d')}\n",
    "        \"\"\"\n",
    "    },\n",
    "    {\n",
    "        \"role\": \"user\",\n",
    "        \"content\": \"Find urban planning trends related to shared mobility in Utrecht for 2020-2025.\"\n",
    "    }\n",
    "]\n"
   ]
  },
  {
   "cell_type": "code",
   "execution_count": 23,
   "metadata": {},
   "outputs": [],
   "source": [
    "def invoke_model(messages):\n",
    "    # Initialize the OpenAI client\n",
    "    client = OpenAI()\n",
    "\n",
    "    # Make a ChatGPT API call with tool calling\n",
    "    completion = client.chat.completions.create(\n",
    "        model=\"gpt-4o-mini\",\n",
    "        messages=messages\n",
    "    )\n",
    "\n",
    "    return completion.choices[0].message.content"
   ]
  },
  {
   "cell_type": "code",
   "execution_count": 24,
   "metadata": {},
   "outputs": [
    {
     "name": "stdout",
     "output_type": "stream",
     "text": [
      "[ChatCompletionMessageToolCall(id='call_K0qsw7cVmAsHDHyeeAyz6JwC', function=Function(arguments='{\"query\":\"Utrecht shared mobility urban planning trends 2020-2025\"}', name='web_search'), type='function')]\n",
      "I’ll conduct a search for academic reports, urban planning documents, and other credible sources regarding the trends in shared mobility in Utrecht from 2020 to 2025. Please hold on while I gather the information. \n",
      "\n",
      "### Summary of Findings on Urban Planning Trends Related to Shared Mobility in Utrecht (2020-2025)\n",
      "\n",
      "1. **Integration of Shared Mobility with Public Transport**:\n",
      "   - Local authorities are emphasizing the integration of shared mobility services (such as bikes, scooters, and car-sharing) with public transport to enhance connectivity and reduce dependency on private cars.\n",
      "   - The introduction of unified ticketing systems is being explored to provide seamless transitions between different modes of transport.\n",
      "\n",
      "2. **Sustainability Goals**:\n",
      "   - Utrecht aims to become carbon-neutral by 2030, influencing the promotion of shared mobility options that are environmentally friendly.\n",
      "   - Initiatives targeting electric vehicle (EV) sharing programs, as well as incentives for using shared bicycles, have been launched to support sustainable urban transport.\n",
      "\n",
      "3. **Digital Platforms and Smart Mobility**:\n",
      "   - The rise of mobile applications facilitating shared mobility services has gained traction, allowing users to plan trips that include multiple modes of transport, enhancing ease-of-use.\n",
      "   - Data analytics is being utilized to monitor usage patterns and improve service offerings in shared mobility.\n",
      "\n",
      "4. **Impact of COVID-19**:\n",
      "   - The pandemic has altered mobility patterns, leading to increased usage of bicycles and a decline in public transport ridership. Local policies reflect these shifts, with administrative support for bike-sharing programs.\n",
      "   - Safety measures for users of shared mobility services have been implemented to ensure public confidence in the wake of health concerns.\n",
      "\n",
      "5. **Community Engagement and Inclusivity**:\n",
      "   - Urban planners are increasingly involving residents in decision-making processes regarding shared mobility services, ensuring that solutions are tailored to diverse community needs.\n",
      "   - Programs aimed at improving accessibility to shared mobility for underrepresented groups are being prioritized.\n",
      "\n",
      "6. **Infrastructure Development**:\n",
      "   - Significant investment is directed towards expanding dedicated lanes for bicycles and improving the infrastructure needed for electric vehicles, facilitating the growth of shared mobility options.\n",
      "   - Parking regulations are being adapted to support the integration of shared vehicles, encouraging users to opt for shared mobility rather than ownership.\n",
      "\n",
      "### Research Hypotheses\n",
      "\n",
      "1. **Hypothesis 1**: The integration of digital platforms for shared mobility with public transport in Utrecht significantly increases the overall adoption of sustainable transportation modes among residents.\n",
      "   \n",
      "2. **Hypothesis 2**: Community engagement in urban planning decisions leads to a higher satisfaction rate and utilization of shared mobility services, particularly among underrepresented demographic groups in Utrecht. \n",
      "\n",
      "These hypotheses can serve as a foundation for further research into the effectiveness of shared mobility initiatives in urban environments like Utrecht.\n"
     ]
    }
   ],
   "source": [
    "# Initialize the OpenAI client\n",
    "client = OpenAI()\n",
    "\n",
    "# Make a ChatGPT API call with tool calling\n",
    "completion = client.chat.completions.create(\n",
    "    model=\"gpt-4o-mini\",\n",
    "    tools=TOOLS,\n",
    "    messages=messages\n",
    ")\n",
    "\n",
    "response = completion.choices[0].message\n",
    "pprint.pprint(response.tool_calls)\n",
    "\n",
    "# Parse the response to get the tool call arguments\n",
    "if response.tool_calls:\n",
    "    # Process each tool call\n",
    "    for tool_call in response.tool_calls:\n",
    "        # Get the tool call arguments\n",
    "        tool_call_arguments = json.loads(tool_call.function.arguments)\n",
    "        if tool_call.function.name == \"search_web\":\n",
    "            print(\"Searching for\", tool_call_arguments)\n",
    "            search_results = search_web(tool_call_arguments[\"query\"])\n",
    "            messages.append({\"role\": \"assistant\", \"content\": f\"{tool_call_arguments[\"query\"]}: {search_results}\"})\n",
    "    print(invoke_model(messages))\n",
    "\n",
    "else:\n",
    "    # If there are no tool calls, return the response content\n",
    "    print(response.content)"
   ]
  },
  {
   "cell_type": "code",
   "execution_count": 26,
   "metadata": {},
   "outputs": [],
   "source": [
    "# create a function call the OpenAi API \n",
    "\n",
    "def agent(messages):\n",
    "\n",
    "    # Initialize the OpenAI client\n",
    "    client = OpenAI()\n",
    "\n",
    "    # Make a ChatGPT API call with tool calling\n",
    "    completion = client.chat.completions.create(\n",
    "        model=\"gpt-4o-mini\",\n",
    "        tools=TOOLS, # here we pass the tools to the LLM\n",
    "        messages=messages\n",
    "    )\n",
    "\n",
    "    # Get the response from the LLM\n",
    "    response = completion.choices[0].message\n",
    "\n",
    "    # Parse the response to get the tool call arguments\n",
    "    if response.tool_calls:\n",
    "        # Process each tool call\n",
    "        for tool_call in response.tool_calls:\n",
    "            # Get the tool call arguments\n",
    "            tool_call_arguments = json.loads(tool_call.function.arguments)\n",
    "            if tool_call.function.name == \"save_memory\":\n",
    "                return save_memory(tool_call_arguments[\"memory\"])\n",
    "            elif tool_call.function.name == \"web_search\":\n",
    "                search_results = search_web(tool_call_arguments[\"query\"])\n",
    "                messages.append({\"role\": \"assistant\", \"content\": f\"Here are the search results: {search_results}\"})\n",
    "                return invoke_model(messages)\n",
    "    else:\n",
    "        # If there are no tool calls, return the response content\n",
    "        return response.content"
   ]
  },
  {
   "cell_type": "code",
   "execution_count": 25,
   "metadata": {},
   "outputs": [
    {
     "data": {
      "text/plain": [
       "[{'role': 'system',\n",
       "  'content': '\\n        You are a helpful Urban Research Assistant specializing in mobility, urban planning, green spaces, and public policies.\\n        \\n        Your mission is to:\\n        1. Search the web for serious sources like urban reports, policy documents, and academic research papers.\\n        2. Summarize the main points clearly in bullet form.\\n        3. Generate 1–2 research hypotheses based on the summaries.\\n        \\n        Make as many tool calls as needed to find good-quality sources before responding.\\n        Focus on reliable information, avoid blogs, tourism websites, and commercial content.\\n        \\n        Current date: 2025-04-28\\n        '},\n",
       " {'role': 'user',\n",
       "  'content': 'Find urban planning trends related to shared mobility in Utrecht for 2020-2025.'}]"
      ]
     },
     "execution_count": 25,
     "metadata": {},
     "output_type": "execute_result"
    }
   ],
   "source": [
    "messages"
   ]
  },
  {
   "cell_type": "code",
   "execution_count": null,
   "metadata": {},
   "outputs": [],
   "source": []
  }
 ],
 "metadata": {
  "kernelspec": {
   "display_name": "base",
   "language": "python",
   "name": "python3"
  },
  "language_info": {
   "codemirror_mode": {
    "name": "ipython",
    "version": 3
   },
   "file_extension": ".py",
   "mimetype": "text/x-python",
   "name": "python",
   "nbconvert_exporter": "python",
   "pygments_lexer": "ipython3",
   "version": "3.12.3"
  }
 },
 "nbformat": 4,
 "nbformat_minor": 2
}
